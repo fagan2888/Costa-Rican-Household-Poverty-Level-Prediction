{
 "cells": [
  {
   "cell_type": "markdown",
   "metadata": {},
   "source": [
    "# Costa Rican Household Poverty Level Prediction \n",
    "\n",
    "\n",
    "\n",
    "\n",
    "## Primary Objective\n",
    "<br>\n",
    "The target of our analysis would be to predict poverty on a household level as defined in the dataset. Given that dataset is on an individual level in terms of the datapoints, however we will only include the head of the household to stick with our plan of conducting the analysis on a household basis. The following would be the target variable values: \n",
    "\n",
    "1 = extreme poverty <br>\n",
    "2 = moderate poverty <br>\n",
    "3 = vulnerable households <br> \n",
    "4 = non vulnerable households <br>\n",
    "<br>\n",
    "\n",
    "## Special Features \n",
    "<br>\n",
    "Out of the 143 features, following features will be treated little differently in our analysis:\n",
    "<br>\n",
    "*Id*: a unique identifier for each individual, this should not be a feature that we use!<br>\n",
    "<br>\n",
    "*idhogar*: a unique identifier for each household. This variable is not a feature, but will be used to group individuals by household as all individuals in a household will have the same identifier.<br>\n",
    "<br>\n",
    "*parentesco1*: indicates if this person is the head of the household.<br>\n",
    "<br>\n",
    "*Target*: the label, which should be equal for all members in a household <br>\n",
    "<br>\n",
    "\n",
    "\n",
    "## Scoring Metric\n",
    "<br>\n",
    "Ultimately we want to build a machine learning model that can predict the integer poverty level of a household. Our predictions will be assessed by the Macro F1 Score.\n",
    "<br>\n",
    "\n",
    "## Secondary Objective\n",
    "<br>\n",
    "1. Feature Engineering <br>\n",
    "2. Select a model by comparison <br>\n",
    "3. Optimise the choice for the model <br>\n",
    "4. Understand the outputs of the model <br>\n",
    "5. Draw insights and breakdown the analysis and prediction <br>\n",
    "<br>"
   ]
  },
  {
   "cell_type": "markdown",
   "metadata": {},
   "source": [
    "## Data Cleansing \n",
    "<br>\n",
    "\n",
    "Let's first go through our dataset and look for errors and missing values and see how we can fix it in this section."
   ]
  },
  {
   "cell_type": "code",
   "execution_count": null,
   "metadata": {},
   "outputs": [],
   "source": []
  }
 ],
 "metadata": {
  "kernelspec": {
   "display_name": "Python 3",
   "language": "python",
   "name": "python3"
  },
  "language_info": {
   "codemirror_mode": {
    "name": "ipython",
    "version": 3
   },
   "file_extension": ".py",
   "mimetype": "text/x-python",
   "name": "python",
   "nbconvert_exporter": "python",
   "pygments_lexer": "ipython3",
   "version": "3.6.3"
  }
 },
 "nbformat": 4,
 "nbformat_minor": 2
}
